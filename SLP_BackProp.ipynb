{
  "nbformat": 4,
  "nbformat_minor": 0,
  "metadata": {
    "colab": {
      "provenance": []
    },
    "kernelspec": {
      "name": "python3",
      "display_name": "Python 3"
    },
    "language_info": {
      "name": "python"
    }
  },
  "cells": [
    {
      "cell_type": "markdown",
      "source": [
        "**Single Layer Perceptron - AND or OR Gate**"
      ],
      "metadata": {
        "id": "0-w0iRg4GgKq"
      }
    },
    {
      "cell_type": "code",
      "source": [
        "import numpy as np\n",
        "\n",
        "X = np.array([[0, 0], [0, 1], [1, 0], [1, 1]])\n",
        "y = np.array([[0], [0], [0], [1]])"
      ],
      "metadata": {
        "id": "uhviu8io43_X"
      },
      "execution_count": 14,
      "outputs": []
    },
    {
      "cell_type": "code",
      "source": [
        "class Perceptron:\n",
        "    def __init__(self, learning_rate=0.1, num_iterations=100):\n",
        "        self.learning_rate = learning_rate\n",
        "        self.num_iterations = num_iterations\n",
        "        self.weights = np.zeros((2, 1))\n",
        "        self.bias = 0\n",
        "\n",
        "    def sigmoid(self, x):\n",
        "        return 1 / (1 + np.exp(-x))\n",
        "\n",
        "    def predict(self, X):\n",
        "        linear_output = np.dot(X, self.weights) + self.bias\n",
        "        return self.sigmoid(linear_output)\n",
        "\n",
        "    def train(self, X, y):\n",
        "        for _ in range(self.num_iterations):\n",
        "            predictions = self.predict(X)\n",
        "            error = y - predictions\n",
        "            self.weights += self.learning_rate * np.dot(X.T, error)\n",
        "            self.bias += self.learning_rate * np.sum(error)"
      ],
      "metadata": {
        "id": "pE-Y8W3t5FVs"
      },
      "execution_count": 15,
      "outputs": []
    },
    {
      "cell_type": "code",
      "source": [
        "# Train the perceptron\n",
        "perceptron = Perceptron()\n",
        "perceptron.train(X, y)"
      ],
      "metadata": {
        "id": "wetUBtgE5IWb"
      },
      "execution_count": 16,
      "outputs": []
    },
    {
      "cell_type": "code",
      "source": [
        "# Test the perceptron\n",
        "test_inputs = np.array([[0, 0], [0, 1], [1, 0], [1, 1]])\n",
        "test_outputs = perceptron.predict(test_inputs)\n",
        "print(\"Test Outputs:\")\n",
        "print(test_outputs)"
      ],
      "metadata": {
        "colab": {
          "base_uri": "https://localhost:8080/",
          "height": 0
        },
        "id": "-Xb1oiq-5MHU",
        "outputId": "11252cf3-be88-4c52-c7c9-4e160be4c6c5"
      },
      "execution_count": 17,
      "outputs": [
        {
          "output_type": "stream",
          "name": "stdout",
          "text": [
            "Test Outputs:\n",
            "[[0.05104813]\n",
            " [0.23731845]\n",
            " [0.23731845]\n",
            " [0.64284042]]\n"
          ]
        }
      ]
    },
    {
      "cell_type": "code",
      "source": [
        "#For OR GATE\n",
        "X = np.array([[0, 0], [0, 1], [1, 0], [1, 1]])\n",
        "y = np.array([[0], [1], [1], [1]])"
      ],
      "metadata": {
        "id": "PnaB5x0h_I1N"
      },
      "execution_count": 18,
      "outputs": []
    },
    {
      "cell_type": "code",
      "source": [
        "perceptron = Perceptron()\n",
        "perceptron.train(X, y)"
      ],
      "metadata": {
        "id": "v63ZgzP9_Qh8"
      },
      "execution_count": 19,
      "outputs": []
    },
    {
      "cell_type": "code",
      "source": [
        "test_inputs = np.array([[0, 0], [0, 1], [1, 0], [1, 1]])\n",
        "test_outputs = perceptron.predict(test_inputs)\n",
        "print(\"Test Outputs:\")\n",
        "print(test_outputs)"
      ],
      "metadata": {
        "colab": {
          "base_uri": "https://localhost:8080/",
          "height": 0
        },
        "id": "IFVLBK5y_TB7",
        "outputId": "04726956-c376-4c94-9588-be4be1546329"
      },
      "execution_count": 20,
      "outputs": [
        {
          "output_type": "stream",
          "name": "stdout",
          "text": [
            "Test Outputs:\n",
            "[[0.35735642]\n",
            " [0.87190274]\n",
            " [0.87190274]\n",
            " [0.98813976]]\n"
          ]
        }
      ]
    },
    {
      "cell_type": "markdown",
      "source": [
        "**Back Propagation - XOR Gate**"
      ],
      "metadata": {
        "id": "zaO5np-s3-kE"
      }
    },
    {
      "cell_type": "code",
      "source": [
        "import numpy as np\n",
        "\n",
        "X = np.array([[0, 0], [0, 1], [1, 0], [1, 1]])\n",
        "y = np.array([[0], [1], [1], [0]])"
      ],
      "metadata": {
        "id": "3mN46spj6Jmj"
      },
      "execution_count": 9,
      "outputs": []
    },
    {
      "cell_type": "code",
      "source": [
        "class NeuralNetwork:\n",
        "    def __init__(self, input_dim, hidden_dim, output_dim):\n",
        "        self.input_dim = input_dim\n",
        "        self.hidden_dim = hidden_dim\n",
        "        self.output_dim = output_dim\n",
        "        self.weights1 = np.random.rand(input_dim, hidden_dim)\n",
        "        self.weights2 = np.random.rand(hidden_dim, output_dim)\n",
        "        self.bias1 = np.zeros((1, hidden_dim))\n",
        "        self.bias2 = np.zeros((1, output_dim))\n",
        "\n",
        "    def sigmoid(self, x):\n",
        "        return 1 / (1 + np.exp(-x))\n",
        "\n",
        "    def sigmoid_derivative(self, x):\n",
        "        return x * (1 - x)\n",
        "\n",
        "    def forward_pass(self, X):\n",
        "        hidden_layer = self.sigmoid(np.dot(X, self.weights1) + self.bias1)\n",
        "        output_layer = self.sigmoid(np.dot(hidden_layer, self.weights2) + self.bias2)\n",
        "        return hidden_layer, output_layer\n",
        "\n",
        "    def backward_pass(self, X, y, hidden_layer, output_layer):\n",
        "        output_error = y - output_layer\n",
        "        output_delta = output_error * self.sigmoid_derivative(output_layer)\n",
        "\n",
        "        hidden_error = output_delta.dot(self.weights2.T)\n",
        "        hidden_delta = hidden_error * self.sigmoid_derivative(hidden_layer)\n",
        "\n",
        "        self.weights2 += 0.1 * hidden_layer.T.dot(output_delta)\n",
        "        self.bias2 += 0.1 * np.sum(output_delta, axis=0, keepdims=True)\n",
        "\n",
        "        self.weights1 += 0.1 * X.T.dot(hidden_delta)\n",
        "        self.bias1 += 0.1 * np.sum(hidden_delta, axis=0, keepdims=True)\n",
        "\n",
        "    def train(self, X, y, num_iterations):\n",
        "        for _ in range(num_iterations):\n",
        "            hidden_layer, output_layer = self.forward_pass(X)\n",
        "            self.backward_pass(X, y, hidden_layer, output_layer)\n",
        "\n",
        "    def predict(self, X):\n",
        "        _, output_layer = self.forward_pass(X)\n",
        "        return output_layer"
      ],
      "metadata": {
        "id": "zZ-XIV226dkr"
      },
      "execution_count": 10,
      "outputs": []
    },
    {
      "cell_type": "code",
      "source": [
        "nn = NeuralNetwork(2, 2, 1)\n",
        "nn.train(X, y, 10000)"
      ],
      "metadata": {
        "id": "fD9vQJ3q6d20"
      },
      "execution_count": 11,
      "outputs": []
    },
    {
      "cell_type": "code",
      "source": [
        "test_inputs = np.array([[0, 0], [0, 1], [1, 0], [1, 1]])\n",
        "test_outputs = nn.predict(test_inputs)\n",
        "print(\"Test Outputs:\")\n",
        "print(test_outputs)"
      ],
      "metadata": {
        "colab": {
          "base_uri": "https://localhost:8080/",
          "height": 0
        },
        "id": "wqVroWqt6qID",
        "outputId": "7c8854f9-4efb-4bfc-d88b-70cc2b4ac670"
      },
      "execution_count": 12,
      "outputs": [
        {
          "output_type": "stream",
          "name": "stdout",
          "text": [
            "Test Outputs:\n",
            "[[0.05202613]\n",
            " [0.95279468]\n",
            " [0.95266863]\n",
            " [0.05059031]]\n"
          ]
        }
      ]
    }
  ]
}